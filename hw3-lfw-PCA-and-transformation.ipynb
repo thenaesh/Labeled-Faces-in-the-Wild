{
 "cells": [
  {
   "cell_type": "code",
   "execution_count": 1,
   "metadata": {
    "collapsed": false
   },
   "outputs": [],
   "source": [
    "import math\n",
    "import numpy as np\n",
    "import numpy.random as nr\n",
    "from sklearn.svm import SVC\n",
    "from sklearn.decomposition import PCA\n",
    "from sklearn.metrics import classification_report\n",
    "from sklearn.model_selection import GridSearchCV\n",
    "from sklearn.metrics import confusion_matrix\n",
    "from __future__ import print_function\n",
    "from time import time\n",
    "import logging\n",
    "import matplotlib.pyplot as plt\n",
    "from sklearn.model_selection import train_test_split"
   ]
  },
  {
   "cell_type": "markdown",
   "metadata": {},
   "source": [
    "# PCA (Tutorial)\n",
    "\n",
    "http://scikit-learn.org/stable/auto_examples/applications/face_recognition.html"
   ]
  },
  {
   "cell_type": "code",
   "execution_count": 2,
   "metadata": {
    "collapsed": false
   },
   "outputs": [],
   "source": [
    "X, y = np.load('X_train.npy'), np.load('y_train.npy')\n",
    "\n",
    "Z = np.load('X_test.npy')\n",
    "\n",
    "n_samples, h, w = X.shape[0], 50, 37\n",
    "target_names = range(7)\n",
    "n_classes = 7"
   ]
  },
  {
   "cell_type": "code",
   "execution_count": 3,
   "metadata": {
    "collapsed": true
   },
   "outputs": [],
   "source": [
    "def pca_fit(X, n_components = 150):\n",
    "    t0 = time()\n",
    "    pca = PCA(n_components=n_components, svd_solver='randomized',\n",
    "              whiten=True).fit(X)\n",
    "    print(\"done in %0.3fs\" % (time() - t0))\n",
    "    return pca"
   ]
  },
  {
   "cell_type": "code",
   "execution_count": 4,
   "metadata": {
    "collapsed": true
   },
   "outputs": [],
   "source": [
    "def pca_grid_search(X, y, n_components = 150, random_state = 3244, \n",
    "                    model = SVC(class_weight='balanced'),\n",
    "                    param_grid = {'C': [1, 10, 1e2, 500, 1e3, 5e3],\n",
    "                                  'gamma': [0.0001, 0.0005, 0.001, 0.005, 0.01, 0.1], \n",
    "                                  'kernel': ['rbf']}):\n",
    "     # validation set\n",
    "    X_train, X_test, y_train, y_test = train_test_split(\n",
    "        X, y, test_size=0.25, random_state=random_state)\n",
    "    \n",
    "    pca = pca_fit(X_train, n_components=n_components)\n",
    "    \n",
    "    # tranform train and test data\n",
    "    print(\"Projecting the input data on the eigenfaces orthonormal basis\")\n",
    "    t0 = time()\n",
    "    X_train_pca = pca.transform(X_train)\n",
    "    X_test_pca = pca.transform(X_test)\n",
    "    print(\"done in %0.3fs\" % (time() - t0))\n",
    "    \n",
    "    # grid search to tune hyper-paramters\n",
    "    print(\"Fitting the classifier to the training set\")\n",
    "    t0 = time()\n",
    "    clf = GridSearchCV(model, param_grid, scoring='f1_micro')\n",
    "    clf = clf.fit(X_train_pca, y_train)\n",
    "    print(\"done in %0.3fs\" % (time() - t0))\n",
    "    print(\"Best estimator found by grid search:\")\n",
    "    print(clf.best_estimator_)\n",
    "    \n",
    "    # test on test data\n",
    "    print(\"Predicting people's names on the test set\")\n",
    "    t0 = time()\n",
    "    y_pred = clf.predict(X_test_pca)\n",
    "    print(\"done in %0.3fs\" % (time() - t0))\n",
    "\n",
    "    print(classification_report(y_test, y_pred))\n",
    "    print(confusion_matrix(y_test, y_pred, labels=range(n_classes)))\n",
    "    \n",
    "    return (pca, clf.best_estimator_)\n",
    "    \n",
    "   "
   ]
  },
  {
   "cell_type": "code",
   "execution_count": 5,
   "metadata": {
    "collapsed": true
   },
   "outputs": [],
   "source": [
    "def print_labels_to_file(filename, labels):\n",
    "    fo = open(filename,'w')\n",
    "    fo.write('ImageId,PredictedClass\\n')\n",
    "    for i in range(labels.shape[0]):\n",
    "        fo.write(str(i) + ',' + str(labels[i])+'\\n')\n",
    "    fo.close()"
   ]
  },
  {
   "cell_type": "code",
   "execution_count": 6,
   "metadata": {
    "collapsed": false
   },
   "outputs": [
    {
     "name": "stdout",
     "output_type": "stream",
     "text": [
      "done in 0.259s\n",
      "Projecting the input data on the eigenfaces orthonormal basis\n",
      "done in 0.029s\n",
      "Fitting the classifier to the training set\n",
      "done in 16.584s\n",
      "Best estimator found by grid search:\n",
      "SVC(C=10, cache_size=200, class_weight='balanced', coef0=0.0,\n",
      "  decision_function_shape=None, degree=3, gamma=0.0005, kernel='rbf',\n",
      "  max_iter=-1, probability=False, random_state=None, shrinking=True,\n",
      "  tol=0.001, verbose=False)\n",
      "Predicting people's names on the test set\n",
      "done in 0.029s\n",
      "             precision    recall  f1-score   support\n",
      "\n",
      "          0       0.71      0.83      0.77        12\n",
      "          1       0.85      0.83      0.84        48\n",
      "          2       0.61      0.78      0.68        18\n",
      "          3       0.92      0.85      0.88        98\n",
      "          4       0.71      0.79      0.75        19\n",
      "          5       0.86      0.75      0.80        16\n",
      "          6       0.79      0.84      0.81        31\n",
      "\n",
      "avg / total       0.84      0.83      0.83       242\n",
      "\n",
      "[[10  2  0  0  0  0  0]\n",
      " [ 1 40  3  2  1  0  1]\n",
      " [ 1  0 14  1  1  0  1]\n",
      " [ 1  3  5 83  2  2  2]\n",
      " [ 0  0  1  1 15  0  2]\n",
      " [ 1  1  0  1  0 12  1]\n",
      " [ 0  1  0  2  2  0 26]]\n"
     ]
    }
   ],
   "source": [
    "pca, clf = pca_grid_search(X, y)"
   ]
  },
  {
   "cell_type": "code",
   "execution_count": 7,
   "metadata": {
    "collapsed": false
   },
   "outputs": [],
   "source": [
    "# fit to X, y\n",
    "X_pca = pca.transform(X)\n",
    "clf.fit(X_pca, y)\n",
    "\n",
    "# print labels for test set\n",
    "Z_pca = pca.transform(Z)\n",
    "z_pred = clf.predict(Z_pca)\n",
    "print_labels_to_file('pca_fit_to_X.csv', z_pred)"
   ]
  },
  {
   "cell_type": "code",
   "execution_count": 8,
   "metadata": {
    "collapsed": false
   },
   "outputs": [
    {
     "name": "stdout",
     "output_type": "stream",
     "text": [
      "done in 0.252s\n"
     ]
    }
   ],
   "source": [
    "# try pca on X first\n",
    "pca = pca_fit(X)\n",
    "X_pca = pca.transform(X)\n",
    "clf.fit(X_pca, y)\n",
    "\n",
    "# print labels for test set\n",
    "Z_pca = pca.transform(Z)\n",
    "z_pred = clf.predict(Z_pca)\n",
    "print_labels_to_file('pca_fit_to_X_v2.csv', z_pred)"
   ]
  },
  {
   "cell_type": "markdown",
   "metadata": {},
   "source": [
    "## more components"
   ]
  },
  {
   "cell_type": "code",
   "execution_count": 9,
   "metadata": {
    "collapsed": false
   },
   "outputs": [],
   "source": [
    "# pca, clf = pca_grid_search(X, y, n_components = 50)"
   ]
  },
  {
   "cell_type": "code",
   "execution_count": 10,
   "metadata": {
    "collapsed": false
   },
   "outputs": [],
   "source": [
    "# pca, clf = pca_grid_search(X, y, n_components = 100)"
   ]
  },
  {
   "cell_type": "code",
   "execution_count": 11,
   "metadata": {
    "collapsed": false
   },
   "outputs": [],
   "source": [
    "# pca, clf = pca_grid_search(X, y, n_components = 300)"
   ]
  },
  {
   "cell_type": "code",
   "execution_count": 12,
   "metadata": {
    "collapsed": false
   },
   "outputs": [],
   "source": [
    "# pca, clf = pca_grid_search(X, y, n_components = 400)"
   ]
  },
  {
   "cell_type": "markdown",
   "metadata": {},
   "source": [
    "## n_components: 100"
   ]
  },
  {
   "cell_type": "code",
   "execution_count": 13,
   "metadata": {
    "collapsed": false
   },
   "outputs": [
    {
     "name": "stdout",
     "output_type": "stream",
     "text": [
      "done in 0.161s\n",
      "Projecting the input data on the eigenfaces orthonormal basis\n",
      "done in 0.025s\n",
      "Fitting the classifier to the training set\n",
      "done in 11.061s\n",
      "Best estimator found by grid search:\n",
      "SVC(C=10, cache_size=200, class_weight='balanced', coef0=0.0,\n",
      "  decision_function_shape=None, degree=3, gamma=0.005, kernel='rbf',\n",
      "  max_iter=-1, probability=False, random_state=None, shrinking=True,\n",
      "  tol=0.001, verbose=False)\n",
      "Predicting people's names on the test set\n",
      "done in 0.020s\n",
      "             precision    recall  f1-score   support\n",
      "\n",
      "          0       0.91      0.83      0.87        12\n",
      "          1       0.87      0.96      0.91        48\n",
      "          2       0.72      0.72      0.72        18\n",
      "          3       0.93      0.93      0.93        98\n",
      "          4       0.78      0.74      0.76        19\n",
      "          5       0.92      0.69      0.79        16\n",
      "          6       0.91      0.94      0.92        31\n",
      "\n",
      "avg / total       0.88      0.88      0.88       242\n",
      "\n",
      "[[10  2  0  0  0  0  0]\n",
      " [ 0 46  0  1  0  0  1]\n",
      " [ 1  1 13  2  0  0  1]\n",
      " [ 0  2  4 91  0  1  0]\n",
      " [ 0  1  1  3 14  0  0]\n",
      " [ 0  1  0  0  3 11  1]\n",
      " [ 0  0  0  1  1  0 29]]\n",
      "done in 0.172s\n"
     ]
    }
   ],
   "source": [
    "pca, clf = pca_grid_search(X, y, n_components = 100)\n",
    "\n",
    "# try pca on X first\n",
    "pca = pca_fit(X, n_components=100)\n",
    "X_pca = pca.transform(X)\n",
    "clf.fit(X_pca, y)\n",
    "\n",
    "# print labels for test set\n",
    "Z_pca = pca.transform(Z)\n",
    "z_pred = clf.predict(Z_pca)\n",
    "print_labels_to_file('pca_fit_to_X_nc_100_v2.csv', z_pred)"
   ]
  },
  {
   "cell_type": "markdown",
   "metadata": {
    "collapsed": true
   },
   "source": [
    "# With transformation\n",
    "https://medium.com/@ageitgey/machine-learning-is-fun-part-4-modern-face-recognition-with-deep-learning-c3cffc121d78#.kz0cyt8sv\n",
    "http://www.learnopencv.com/average-face-opencv-c-python-tutorial/"
   ]
  },
  {
   "cell_type": "code",
   "execution_count": 14,
   "metadata": {
    "collapsed": true
   },
   "outputs": [],
   "source": [
    "import dlib\n",
    "import cv2"
   ]
  },
  {
   "cell_type": "code",
   "execution_count": 15,
   "metadata": {
    "collapsed": false
   },
   "outputs": [],
   "source": [
    "# get file from http://dlib.net/files/shape_predictor_68_face_landmarks.dat.bz2\n",
    "# unzip from bz2\n",
    "predictor_model = \"shape_predictor_68_face_landmarks.dat\"\n",
    "face_detector = dlib.get_frontal_face_detector()\n",
    "face_pose_predictor = dlib.shape_predictor(predictor_model)"
   ]
  },
  {
   "cell_type": "code",
   "execution_count": 16,
   "metadata": {
    "collapsed": true
   },
   "outputs": [],
   "source": [
    "# from http://www.learnopencv.com/average-face-opencv-c-python-tutorial/\n",
    "\n",
    "# Compute similarity transform given two sets of two points.\n",
    "# OpenCV requires 3 pairs of corresponding points.\n",
    "# We are faking the third one.\n",
    "\n",
    "def similarityTransform(inPoints, outPoints) :\n",
    "    s60 = math.sin(60*math.pi/180);\n",
    "    c60 = math.cos(60*math.pi/180);  \n",
    "    inPts = np.copy(inPoints).tolist();\n",
    "    outPts = np.copy(outPoints).tolist();\n",
    "    xin = c60*(inPts[0][0] - inPts[1][0]) - s60*(inPts[0][1] - inPts[1][1]) + inPts[1][0];\n",
    "    yin = s60*(inPts[0][0] - inPts[1][0]) + c60*(inPts[0][1] - inPts[1][1]) + inPts[1][1];\n",
    "    inPts.append([np.int(xin), np.int(yin)]);\n",
    "    xout = c60*(outPts[0][0] - outPts[1][0]) - s60*(outPts[0][1] - outPts[1][1]) + outPts[1][0];\n",
    "    yout = s60*(outPts[0][0] - outPts[1][0]) + c60*(outPts[0][1] - outPts[1][1]) + outPts[1][1];\n",
    "    outPts.append([np.int(xout), np.int(yout)]);\n",
    "    tform = cv2.estimateRigidTransform(np.array([inPts]), np.array([outPts]), False);\n",
    "    return tform;\n",
    "\n"
   ]
  },
  {
   "cell_type": "code",
   "execution_count": 17,
   "metadata": {
    "collapsed": true
   },
   "outputs": [],
   "source": [
    "def get_points(flat_images, h=h, w=w):\n",
    "    points = []\n",
    "    for i in range(len(flat_images)):\n",
    "        image = np.uint8(flat_images[i].reshape((h,w)))\n",
    "        points.append([])\n",
    "        detected_faces = face_detector(image, 1)\n",
    "        for j, face_rect in enumerate(detected_faces):\n",
    "            pose_landmarks = face_pose_predictor(image, face_rect)\n",
    "            for k in range(68): \n",
    "                point = dlib.full_object_detection.part(pose_landmarks, k)\n",
    "                points[i].append((point.x, point.y))\n",
    "            break\n",
    "    return points"
   ]
  },
  {
   "cell_type": "code",
   "execution_count": 18,
   "metadata": {
    "collapsed": true
   },
   "outputs": [],
   "source": [
    "# adapted from http://www.learnopencv.com/average-face-opencv-c-python-tutorial/\n",
    "# align eye corners at 0.3h, 0.15w/0.85w\n",
    "def align_eyes(allPoints, images, h=h, w=w, n=68):\n",
    "    # Eye corners\n",
    "    eyecornerDst = [ (np.int(0.15 * w ), np.int(h / 3)), (np.int(0.85 * w ), np.int(h / 3)) ];\n",
    "    imagesNorm = []; \n",
    "    numImages = len(images)\n",
    "    numCount = 0\n",
    "    # Warp images and trasnform landmarks to output coordinate system,\n",
    "    # and find average of transformed landmarks.  \n",
    "    for i in range(numImages):\n",
    "        # dont change image if no face detected\n",
    "        if len(allPoints[i]) == 0:\n",
    "            imagesNorm.append(images[i])\n",
    "            continue;\n",
    "        # Corners of the eye in input image\n",
    "        eyecornerSrc  = [ allPoints[i][36], allPoints[i][45] ] ;\n",
    "        # Compute similarity transform\n",
    "        tform = similarityTransform(eyecornerSrc, eyecornerDst);\n",
    "        # Apply similarity transformation\n",
    "        img = cv2.warpAffine(images[i], tform, (w,h));\n",
    "        # Calculate location of average landmark points.\n",
    "        imagesNorm.append(img);\n",
    "    return imagesNorm"
   ]
  },
  {
   "cell_type": "code",
   "execution_count": 19,
   "metadata": {
    "collapsed": true
   },
   "outputs": [],
   "source": [
    "def to_image(flat_images):\n",
    "    return [img.reshape((h,w)) for img in flat_images]\n",
    "\n",
    "def image_to_np_array(images, h=h, w=w):\n",
    "    array = np.zeros((len(images), h*w))\n",
    "    for k in range(len(images)):\n",
    "        for i in range(h):\n",
    "            for j in range(w):\n",
    "                array[k][i*37+j] = images[k][i][j]\n",
    "    return array"
   ]
  },
  {
   "cell_type": "code",
   "execution_count": 20,
   "metadata": {
    "collapsed": true
   },
   "outputs": [],
   "source": [
    "def plot_gallery(images, titles, h=h, w=w, n_row=3, n_col=4):\n",
    "    \"\"\"Helper function to plot a gallery of portraits\"\"\"\n",
    "    plt.figure(figsize=(1.8 * n_col, 2.4 * n_row))\n",
    "    plt.subplots_adjust(bottom=0, left=.01, right=.99, top=.90, hspace=.35)\n",
    "    for i in range(n_row * n_col):\n",
    "        plt.subplot(n_row, n_col, i + 1)\n",
    "        plt.imshow(images[i], cmap=plt.cm.gray)\n",
    "        plt.title(titles[i], size=12)\n",
    "        plt.xticks(())\n",
    "        plt.yticks(())"
   ]
  },
  {
   "cell_type": "code",
   "execution_count": 21,
   "metadata": {
    "collapsed": false
   },
   "outputs": [],
   "source": [
    "X_points = get_points(X)\n",
    "\n",
    "X_images_norm = align_eyes(X_points, to_image(X))\n",
    "\n",
    "# testing rotation and alignment\n",
    "# plot_gallery(X_images_norm, y)\n",
    "# plt.show()"
   ]
  },
  {
   "cell_type": "code",
   "execution_count": 22,
   "metadata": {
    "collapsed": false,
    "scrolled": true
   },
   "outputs": [
    {
     "name": "stdout",
     "output_type": "stream",
     "text": [
      "done in 0.191s\n",
      "Projecting the input data on the eigenfaces orthonormal basis\n",
      "done in 0.032s\n",
      "Fitting the classifier to the training set\n",
      "done in 16.315s\n",
      "Best estimator found by grid search:\n",
      "SVC(C=10, cache_size=200, class_weight='balanced', coef0=0.0,\n",
      "  decision_function_shape=None, degree=3, gamma=0.001, kernel='rbf',\n",
      "  max_iter=-1, probability=False, random_state=None, shrinking=True,\n",
      "  tol=0.001, verbose=False)\n",
      "Predicting people's names on the test set\n",
      "done in 0.029s\n",
      "             precision    recall  f1-score   support\n",
      "\n",
      "          0       0.77      0.83      0.80        12\n",
      "          1       0.88      0.94      0.91        48\n",
      "          2       0.75      0.83      0.79        18\n",
      "          3       0.89      0.91      0.90        98\n",
      "          4       0.88      0.74      0.80        19\n",
      "          5       0.93      0.88      0.90        16\n",
      "          6       0.89      0.77      0.83        31\n",
      "\n",
      "avg / total       0.87      0.87      0.87       242\n",
      "\n",
      "[[10  1  1  0  0  0  0]\n",
      " [ 0 45  1  1  0  1  0]\n",
      " [ 0  0 15  3  0  0  0]\n",
      " [ 0  4  1 89  2  0  2]\n",
      " [ 0  1  1  2 14  0  1]\n",
      " [ 0  0  1  1  0 14  0]\n",
      " [ 3  0  0  4  0  0 24]]\n"
     ]
    }
   ],
   "source": [
    "X_align = image_to_np_array(X_images_norm)\n",
    "pca, clf = pca_grid_search(X_align, y)"
   ]
  },
  {
   "cell_type": "code",
   "execution_count": 23,
   "metadata": {
    "collapsed": false
   },
   "outputs": [],
   "source": [
    "Z_points = get_points(Z)\n",
    "Z_images_norm = align_eyes(Z_points, to_image(Z))\n",
    "Z_align = image_to_np_array(Z_images_norm)\n",
    "# testing rotation and alignment\n",
    "# plot_gallery(Z_images_norm, range(len(Z_points)))\n",
    "# plt.show()\n",
    "\n",
    "# fit to X, y\n",
    "X_pca = pca.transform(X_align)\n",
    "clf.fit(X_pca, y)\n",
    "# print labels for test set\n",
    "Z_pca = pca.transform(Z_align)\n",
    "z_pred = clf.predict(Z_pca)\n",
    "print_labels_to_file('transform_pca_fit_to_X.csv', z_pred)"
   ]
  },
  {
   "cell_type": "code",
   "execution_count": 24,
   "metadata": {
    "collapsed": false
   },
   "outputs": [
    {
     "name": "stdout",
     "output_type": "stream",
     "text": [
      "done in 0.263s\n"
     ]
    }
   ],
   "source": [
    "pca = pca_fit(X_align)\n",
    "# fit to X, y\n",
    "X_pca = pca.transform(X_align)\n",
    "clf.fit(X_pca, y)\n",
    "# print labels for test set\n",
    "Z_pca = pca.transform(Z_align)\n",
    "z_pred = clf.predict(Z_pca)\n",
    "print_labels_to_file('transform_pca_on_X_fit_to_X.csv', z_pred)"
   ]
  },
  {
   "cell_type": "markdown",
   "metadata": {},
   "source": [
    "## more components"
   ]
  },
  {
   "cell_type": "code",
   "execution_count": 25,
   "metadata": {
    "collapsed": false
   },
   "outputs": [],
   "source": [
    "# pca, clf = pca_grid_search(X_align, y, n_components=50)"
   ]
  },
  {
   "cell_type": "code",
   "execution_count": 26,
   "metadata": {
    "collapsed": false
   },
   "outputs": [
    {
     "name": "stdout",
     "output_type": "stream",
     "text": [
      "done in 0.120s\n",
      "Projecting the input data on the eigenfaces orthonormal basis\n",
      "done in 0.020s\n",
      "Fitting the classifier to the training set\n",
      "done in 8.697s\n",
      "Best estimator found by grid search:\n",
      "SVC(C=10, cache_size=200, class_weight='balanced', coef0=0.0,\n",
      "  decision_function_shape=None, degree=3, gamma=0.005, kernel='rbf',\n",
      "  max_iter=-1, probability=False, random_state=None, shrinking=True,\n",
      "  tol=0.001, verbose=False)\n",
      "Predicting people's names on the test set\n",
      "done in 0.013s\n",
      "             precision    recall  f1-score   support\n",
      "\n",
      "          0       0.77      0.83      0.80        12\n",
      "          1       0.84      0.98      0.90        48\n",
      "          2       0.94      0.83      0.88        18\n",
      "          3       0.90      0.91      0.90        98\n",
      "          4       0.88      0.79      0.83        19\n",
      "          5       0.83      0.62      0.71        16\n",
      "          6       0.97      0.90      0.93        31\n",
      "\n",
      "avg / total       0.89      0.88      0.88       242\n",
      "\n",
      "[[10  2  0  0  0  0  0]\n",
      " [ 0 47  0  1  0  0  0]\n",
      " [ 1  0 15  2  0  0  0]\n",
      " [ 1  5  0 89  1  2  0]\n",
      " [ 0  1  1  1 15  0  1]\n",
      " [ 0  1  0  5  0 10  0]\n",
      " [ 1  0  0  1  1  0 28]]\n"
     ]
    }
   ],
   "source": [
    "pca, clf = pca_grid_search(X_align, y, n_components=75)"
   ]
  },
  {
   "cell_type": "code",
   "execution_count": 27,
   "metadata": {
    "collapsed": false
   },
   "outputs": [],
   "source": [
    "# pca, clf = pca_grid_search(X_align, y, n_components=100)"
   ]
  },
  {
   "cell_type": "code",
   "execution_count": 28,
   "metadata": {
    "collapsed": false
   },
   "outputs": [],
   "source": [
    "# pca, clf = pca_grid_search(X_align, y, n_components=125)"
   ]
  },
  {
   "cell_type": "code",
   "execution_count": 29,
   "metadata": {
    "collapsed": false
   },
   "outputs": [],
   "source": [
    "# pca, clf = pca_grid_search(X_align, y, n_components=300)"
   ]
  },
  {
   "cell_type": "markdown",
   "metadata": {},
   "source": [
    "## poly svm"
   ]
  },
  {
   "cell_type": "code",
   "execution_count": 30,
   "metadata": {
    "collapsed": false
   },
   "outputs": [
    {
     "name": "stdout",
     "output_type": "stream",
     "text": [
      "done in 0.211s\n",
      "Projecting the input data on the eigenfaces orthonormal basis\n",
      "done in 0.027s\n",
      "Fitting the classifier to the training set\n",
      "done in 15.709s\n",
      "Best estimator found by grid search:\n",
      "SVC(C=1000.0, cache_size=200, class_weight='balanced', coef0=1,\n",
      "  decision_function_shape=None, degree=2, gamma='auto', kernel='poly',\n",
      "  max_iter=-1, probability=False, random_state=None, shrinking=True,\n",
      "  tol=0.001, verbose=False)\n",
      "Predicting people's names on the test set\n",
      "done in 0.023s\n",
      "             precision    recall  f1-score   support\n",
      "\n",
      "          0       0.85      0.92      0.88        12\n",
      "          1       0.94      0.92      0.93        48\n",
      "          2       0.75      0.83      0.79        18\n",
      "          3       0.90      0.94      0.92        98\n",
      "          4       0.83      0.79      0.81        19\n",
      "          5       0.92      0.75      0.83        16\n",
      "          6       0.93      0.87      0.90        31\n",
      "\n",
      "avg / total       0.89      0.89      0.89       242\n",
      "\n",
      "[[11  0  1  0  0  0  0]\n",
      " [ 1 44  1  1  0  1  0]\n",
      " [ 0  0 15  2  1  0  0]\n",
      " [ 0  2  1 92  2  0  1]\n",
      " [ 0  1  1  1 15  0  1]\n",
      " [ 0  0  1  3  0 12  0]\n",
      " [ 1  0  0  3  0  0 27]]\n",
      "done in 0.253s\n"
     ]
    }
   ],
   "source": [
    "pca, clf = pca_grid_search(X_align, y, \n",
    "                               param_grid ={'C': [1e3, 5e3, 1e4, 5e4, 1e5],\n",
    "                                              'kernel': ['poly'], \n",
    "                                              'degree': [1, 2, 3], 'coef0':[0, 1]})\n",
    "pca = pca_fit(X_align)\n",
    "# fit to X, y\n",
    "X_pca = pca.transform(X_align)\n",
    "clf.fit(X_pca, y)\n",
    "# print labels for test set\n",
    "Z_pca = pca.transform(Z_align)\n",
    "z_pred = clf.predict(Z_pca)\n",
    "print_labels_to_file('transform_pca_on_X_poly_2.csv', z_pred)"
   ]
  },
  {
   "cell_type": "markdown",
   "metadata": {},
   "source": [
    "## adaboost on tranformed PCA"
   ]
  },
  {
   "cell_type": "code",
   "execution_count": 31,
   "metadata": {
    "collapsed": true
   },
   "outputs": [],
   "source": [
    "from sklearn.ensemble import AdaBoostClassifier\n",
    "from sklearn.ensemble import BaggingClassifier\n",
    "from sklearn.tree import DecisionTreeClassifier"
   ]
  },
  {
   "cell_type": "code",
   "execution_count": 32,
   "metadata": {
    "collapsed": false
   },
   "outputs": [
    {
     "name": "stdout",
     "output_type": "stream",
     "text": [
      "done in 0.206s\n",
      "Projecting the input data on the eigenfaces orthonormal basis\n",
      "done in 0.027s\n",
      "Fitting the classifier to the training set\n",
      "done in 8.000s\n",
      "Best estimator found by grid search:\n",
      "AdaBoostClassifier(algorithm='SAMME.R', base_estimator=None, learning_rate=1,\n",
      "          n_estimators=100, random_state=None)\n",
      "Predicting people's names on the test set\n",
      "done in 0.017s\n",
      "             precision    recall  f1-score   support\n",
      "\n",
      "          0       1.00      0.08      0.15        12\n",
      "          1       0.74      0.67      0.70        48\n",
      "          2       0.75      0.17      0.27        18\n",
      "          3       0.50      0.83      0.62        98\n",
      "          4       0.50      0.32      0.39        19\n",
      "          5       0.25      0.06      0.10        16\n",
      "          6       0.27      0.13      0.17        31\n",
      "\n",
      "avg / total       0.54      0.53      0.48       242\n",
      "\n",
      "[[ 1  3  0  7  0  1  0]\n",
      " [ 0 32  0 15  0  0  1]\n",
      " [ 0  0  3 14  0  0  1]\n",
      " [ 0  6  1 81  3  2  5]\n",
      " [ 0  1  0  9  6  0  3]\n",
      " [ 0  0  0 13  1  1  1]\n",
      " [ 0  1  0 24  2  0  4]]\n"
     ]
    }
   ],
   "source": [
    "pca, clf = pca_grid_search(X_align,y, model=AdaBoostClassifier(),\n",
    "                           param_grid = {'n_estimators': [100], \n",
    "                                         'learning_rate':[1e-2, 1]})\n"
   ]
  },
  {
   "cell_type": "markdown",
   "metadata": {},
   "source": [
    "# bagging"
   ]
  },
  {
   "cell_type": "code",
   "execution_count": 33,
   "metadata": {
    "collapsed": false
   },
   "outputs": [],
   "source": [
    "def bagging_svc(X, y, n_components = 150,\n",
    "                model = SVC(C=10.0, class_weight='balanced', gamma=0.001, kernel='rbf'),\n",
    "                n_estimators=100, max_samples=0.7, max_features=0.7):\n",
    "    \n",
    "    pca = pca_fit(X, n_components = n_components)\n",
    "    \n",
    "    # tranform train and test data\n",
    "    print(\"Projecting the input data on the eigenfaces orthonormal basis\")\n",
    "    t0 = time()\n",
    "    X_pca = pca.transform(X)\n",
    "    print(\"done in %0.3fs\" % (time() - t0))\n",
    "    \n",
    "    # bagging\n",
    "    print(\"Fitting the classifier to the training set\")\n",
    "    t0 = time()\n",
    "    clf = BaggingClassifier(model,max_samples=max_samples, max_features=max_features, n_estimators=n_estimators, oob_score=True)\n",
    "    clf = clf.fit(X_pca, y)\n",
    "    print(\"done in %0.3fs\" % (time() - t0))\n",
    "    print(clf.oob_score_)\n",
    "    return (pca, clf)\n",
    "\n",
    "    \n",
    "def bagging_test(X, y, n_components = 150, \n",
    "                random_state = 3244, \n",
    "                model = SVC(C=10.0, class_weight='balanced', gamma=0.001, kernel='rbf'),\n",
    "                n_estimators=100, max_samples=0.7, max_features=0.7):\n",
    "    \n",
    "    # validation set\n",
    "    X_train, X_test, y_train, y_test = train_test_split(\n",
    "        X, y, test_size=0.2, random_state=random_state)\n",
    "    \n",
    "    pca, clf = bagging_svc(X_train, y_train,\n",
    "                           n_components=n_components, \n",
    "                           model=model, n_estimators=n_estimators, \n",
    "                           max_samples=max_samples, \n",
    "                           max_features=max_features)\n",
    "    \n",
    "    X_test_pca = pca.transform(X_test)\n",
    "    \n",
    "    # test on test data\n",
    "    print(\"Predicting people's names on the test set\")\n",
    "    t0 = time()\n",
    "    y_pred = clf.predict(X_test_pca)\n",
    "    print(\"done in %0.3fs\" % (time() - t0))\n",
    "\n",
    "    print(classification_report(y_test, y_pred))\n",
    "    print(confusion_matrix(y_test, y_pred, labels=range(n_classes)))\n",
    "    \n",
    "    return (pca, clf)"
   ]
  },
  {
   "cell_type": "code",
   "execution_count": 34,
   "metadata": {
    "collapsed": false
   },
   "outputs": [
    {
     "name": "stdout",
     "output_type": "stream",
     "text": [
      "done in 0.208s\n",
      "Projecting the input data on the eigenfaces orthonormal basis\n",
      "done in 0.018s\n",
      "Fitting the classifier to the training set\n",
      "done in 6.828s\n",
      "0.85103626943\n",
      "Predicting people's names on the test set\n",
      "done in 1.033s\n",
      "             precision    recall  f1-score   support\n",
      "\n",
      "          0       0.75      1.00      0.86         9\n",
      "          1       0.84      0.94      0.89        33\n",
      "          2       0.93      0.93      0.93        14\n",
      "          3       0.90      0.92      0.91        83\n",
      "          4       0.87      0.76      0.81        17\n",
      "          5       1.00      0.75      0.86        16\n",
      "          6       0.95      0.86      0.90        22\n",
      "\n",
      "avg / total       0.90      0.89      0.89       194\n",
      "\n",
      "[[ 9  0  0  0  0  0  0]\n",
      " [ 1 31  0  1  0  0  0]\n",
      " [ 0  0 13  1  0  0  0]\n",
      " [ 2  3  0 76  2  0  0]\n",
      " [ 0  0  1  2 13  0  1]\n",
      " [ 0  1  0  3  0 12  0]\n",
      " [ 0  2  0  1  0  0 19]]\n",
      "done in 0.358s\n",
      "Projecting the input data on the eigenfaces orthonormal basis\n",
      "done in 0.052s\n",
      "Fitting the classifier to the training set\n",
      "done in 9.698s\n",
      "0.873706004141\n"
     ]
    }
   ],
   "source": [
    "pca, clf = bagging_test(X_align, y)\n",
    "# print labels for test set\n",
    "Z_pca = pca.transform(Z_align)\n",
    "z_pred = clf.predict(Z_pca)\n",
    "print_labels_to_file('bagging_train.csv', z_pred)\n",
    "\n",
    "pca, clf = bagging_svc(X_align, y)\n",
    "# print labels for test set\n",
    "Z_pca = pca.transform(Z_align)\n",
    "z_pred = clf.predict(Z_pca)\n",
    "print_labels_to_file('bagging_fit_to_X.csv', z_pred)\n"
   ]
  },
  {
   "cell_type": "code",
   "execution_count": 35,
   "metadata": {
    "collapsed": false
   },
   "outputs": [
    {
     "name": "stdout",
     "output_type": "stream",
     "text": [
      "done in 0.265s\n",
      "Projecting the input data on the eigenfaces orthonormal basis\n",
      "done in 0.024s\n",
      "Fitting the classifier to the training set\n",
      "done in 10.941s\n",
      "0.863989637306\n",
      "Predicting people's names on the test set\n",
      "done in 1.729s\n",
      "             precision    recall  f1-score   support\n",
      "\n",
      "          0       0.80      0.89      0.84         9\n",
      "          1       0.86      0.94      0.90        33\n",
      "          2       0.93      0.93      0.93        14\n",
      "          3       0.92      0.95      0.93        83\n",
      "          4       0.87      0.76      0.81        17\n",
      "          5       1.00      0.75      0.86        16\n",
      "          6       0.90      0.86      0.88        22\n",
      "\n",
      "avg / total       0.90      0.90      0.90       194\n",
      "\n",
      "[[ 8  1  0  0  0  0  0]\n",
      " [ 1 31  0  1  0  0  0]\n",
      " [ 0  0 13  1  0  0  0]\n",
      " [ 0  1  0 79  2  0  1]\n",
      " [ 0  0  1  2 13  0  1]\n",
      " [ 0  2  0  2  0 12  0]\n",
      " [ 1  1  0  1  0  0 19]]\n",
      "done in 0.325s\n",
      "Projecting the input data on the eigenfaces orthonormal basis\n",
      "done in 0.035s\n",
      "Fitting the classifier to the training set\n",
      "done in 3.128s\n",
      "0.869170984456\n",
      "Predicting people's names on the test set\n",
      "done in 0.502s\n",
      "             precision    recall  f1-score   support\n",
      "\n",
      "          0       0.82      1.00      0.90         9\n",
      "          1       0.91      0.97      0.94        33\n",
      "          2       0.93      0.93      0.93        14\n",
      "          3       0.90      0.95      0.92        83\n",
      "          4       0.87      0.76      0.81        17\n",
      "          5       1.00      0.69      0.81        16\n",
      "          6       0.95      0.86      0.90        22\n",
      "\n",
      "avg / total       0.91      0.91      0.91       194\n",
      "\n",
      "[[ 9  0  0  0  0  0  0]\n",
      " [ 0 32  0  1  0  0  0]\n",
      " [ 0  0 13  1  0  0  0]\n",
      " [ 1  1  0 79  2  0  0]\n",
      " [ 0  0  1  2 13  0  1]\n",
      " [ 0  1  0  4  0 11  0]\n",
      " [ 1  1  0  1  0  0 19]]\n"
     ]
    }
   ],
   "source": [
    "pca, clf = bagging_test(X_align, y, max_samples=1.0, max_features=1.0)\n",
    "pca, clf = bagging_test(X_align, y, max_samples=1.0, max_features=1.0, n_estimators=30)"
   ]
  },
  {
   "cell_type": "code",
   "execution_count": 36,
   "metadata": {
    "collapsed": false
   },
   "outputs": [
    {
     "name": "stdout",
     "output_type": "stream",
     "text": [
      "done in 0.304s\n",
      "Projecting the input data on the eigenfaces orthonormal basis\n",
      "done in 0.022s\n",
      "Fitting the classifier to the training set\n",
      "done in 2.988s\n",
      "0.860103626943\n",
      "Predicting people's names on the test set\n",
      "done in 0.439s\n",
      "             precision    recall  f1-score   support\n",
      "\n",
      "          0       1.00      0.89      0.94         9\n",
      "          1       0.97      0.91      0.94        33\n",
      "          2       0.81      0.93      0.87        14\n",
      "          3       0.88      0.95      0.91        83\n",
      "          4       0.87      0.76      0.81        17\n",
      "          5       0.92      0.69      0.79        16\n",
      "          6       0.86      0.86      0.86        22\n",
      "\n",
      "avg / total       0.89      0.89      0.89       194\n",
      "\n",
      "[[ 8  0  1  0  0  0  0]\n",
      " [ 0 30  0  1  0  1  1]\n",
      " [ 0  0 13  1  0  0  0]\n",
      " [ 0  0  1 79  2  0  1]\n",
      " [ 0  0  1  2 13  0  1]\n",
      " [ 0  0  0  5  0 11  0]\n",
      " [ 0  1  0  2  0  0 19]]\n"
     ]
    }
   ],
   "source": [
    "pca, clf = bagging_test(X_align, y, \n",
    "                        model=SVC(C=1000.0, class_weight='balanced', coef0=1,\n",
    "                                degree=2, kernel='poly'),\n",
    "                        max_samples=1.0, max_features=1.0, n_estimators=30)"
   ]
  },
  {
   "cell_type": "code",
   "execution_count": 37,
   "metadata": {
    "collapsed": false
   },
   "outputs": [
    {
     "name": "stdout",
     "output_type": "stream",
     "text": [
      "done in 0.217s\n",
      "Projecting the input data on the eigenfaces orthonormal basis\n",
      "done in 0.020s\n",
      "Fitting the classifier to the training set\n",
      "done in 10.552s\n",
      "0.871761658031\n",
      "Predicting people's names on the test set\n",
      "done in 1.647s\n",
      "             precision    recall  f1-score   support\n",
      "\n",
      "          0       1.00      0.89      0.94         9\n",
      "          1       0.97      0.91      0.94        33\n",
      "          2       0.76      0.93      0.84        14\n",
      "          3       0.89      0.96      0.92        83\n",
      "          4       0.86      0.71      0.77        17\n",
      "          5       0.92      0.69      0.79        16\n",
      "          6       0.91      0.91      0.91        22\n",
      "\n",
      "avg / total       0.90      0.90      0.90       194\n",
      "\n",
      "[[ 8  0  1  0  0  0  0]\n",
      " [ 0 30  0  1  0  1  1]\n",
      " [ 0  0 13  1  0  0  0]\n",
      " [ 0  0  1 80  2  0  0]\n",
      " [ 0  0  2  2 12  0  1]\n",
      " [ 0  0  0  5  0 11  0]\n",
      " [ 0  1  0  1  0  0 20]]\n"
     ]
    }
   ],
   "source": [
    "pca, clf = bagging_test(X_align, y, \n",
    "                        model=SVC(C=1000.0, class_weight='balanced', coef0=1,\n",
    "                                degree=2, kernel='poly'),\n",
    "                        max_samples=1.0, max_features=1.0)"
   ]
  },
  {
   "cell_type": "code",
   "execution_count": 38,
   "metadata": {
    "collapsed": false
   },
   "outputs": [],
   "source": [
    "# # validation set\n",
    "# # decision tree\n",
    "\n",
    "# X_train, X_test, y_train, y_test = train_test_split(\n",
    "#     X_align, y, test_size=0.25, random_state=3244)\n",
    "# pca = pca_fit(X_train)\n",
    "# X_train_pca = pca.transform(X_train)\n",
    "# X_test_pca = pca.transform(X_test)\n",
    "# clf = DecisionTreeClassifier(class_weight='balanced')\n",
    "# clf.fit(X_train_pca, y_train)\n",
    "# # test on test data\n",
    "# print(\"Predicting people's names on the test set\")\n",
    "# t0 = time()\n",
    "# y_pred = clf.predict(X_test_pca)\n",
    "# print(\"done in %0.3fs\" % (time() - t0))\n",
    "\n",
    "# print(classification_report(y_test, y_pred))\n",
    "# print(confusion_matrix(y_test, y_pred, labels=range(n_classes)))\n"
   ]
  },
  {
   "cell_type": "code",
   "execution_count": null,
   "metadata": {
    "collapsed": true
   },
   "outputs": [],
   "source": []
  },
  {
   "cell_type": "markdown",
   "metadata": {},
   "source": [
    "## neural network"
   ]
  },
  {
   "cell_type": "code",
   "execution_count": 39,
   "metadata": {
    "collapsed": true
   },
   "outputs": [],
   "source": [
    "from sklearn.preprocessing import StandardScaler\n",
    "from sklearn.neural_network import MLPClassifier\n"
   ]
  },
  {
   "cell_type": "code",
   "execution_count": 40,
   "metadata": {
    "collapsed": true
   },
   "outputs": [],
   "source": [
    "def scale_pca_grid_search_nn(X, y, n_components=150,\n",
    "                             param_grid={'solver': ['lbfgs'],\n",
    "                                         'alpha': [1e-2, 1e-4, 1e-6],\n",
    "                                         'hidden_layer_sizes': [(150,),(100,)]},\n",
    "                             random_state=3244):\n",
    "    # validation set\n",
    "    X_train, X_test, y_train, y_test = train_test_split(\n",
    "        X_align, y, test_size=0.2, random_state=3244)\n",
    "    \n",
    "    scaler = StandardScaler()  \n",
    "    scaler.fit(X_train)  \n",
    "    X_train = scaler.transform(X_train)\n",
    "    X_test = scaler.transform(X_test) \n",
    "\n",
    "    pca_fit(X_train, n_components =n_components)\n",
    "\n",
    "    X_train_pca = pca.transform(X_train)\n",
    "    X_test_pca = pca.transform(X_test)\n",
    "    clf = GridSearchCV(MLPClassifier(), param_grid, scoring='f1_micro')\n",
    "    clf = clf.fit(X_train_pca, y_train)\n",
    "    print(clf.best_estimator_)\n",
    "\n",
    "    # test on test data\n",
    "    print(\"Predicting people's names on the test set\")\n",
    "    t0 = time()\n",
    "    y_pred = clf.predict(X_test_pca)\n",
    "    print(\"done in %0.3fs\" % (time() - t0))\n",
    "\n",
    "    print(classification_report(y_test, y_pred))\n",
    "    print(confusion_matrix(y_test, y_pred, labels=range(n_classes)))\n",
    "\n",
    "    return scaler, pca, clf.best_estimator_"
   ]
  },
  {
   "cell_type": "code",
   "execution_count": 41,
   "metadata": {
    "collapsed": false
   },
   "outputs": [
    {
     "name": "stdout",
     "output_type": "stream",
     "text": [
      "done in 0.236s\n",
      "MLPClassifier(activation='relu', alpha=0.01, batch_size='auto', beta_1=0.9,\n",
      "       beta_2=0.999, early_stopping=False, epsilon=1e-08,\n",
      "       hidden_layer_sizes=(100,), learning_rate='constant',\n",
      "       learning_rate_init=0.001, max_iter=200, momentum=0.9,\n",
      "       nesterovs_momentum=True, power_t=0.5, random_state=None,\n",
      "       shuffle=True, solver='lbfgs', tol=0.0001, validation_fraction=0.1,\n",
      "       verbose=False, warm_start=False)\n",
      "Predicting people's names on the test set\n",
      "done in 0.001s\n",
      "             precision    recall  f1-score   support\n",
      "\n",
      "          0       0.86      0.67      0.75         9\n",
      "          1       0.87      1.00      0.93        33\n",
      "          2       0.87      0.93      0.90        14\n",
      "          3       0.90      0.93      0.91        83\n",
      "          4       0.82      0.82      0.82        17\n",
      "          5       1.00      0.62      0.77        16\n",
      "          6       0.95      0.91      0.93        22\n",
      "\n",
      "avg / total       0.90      0.89      0.89       194\n",
      "\n",
      "[[ 6  2  1  0  0  0  0]\n",
      " [ 0 33  0  0  0  0  0]\n",
      " [ 0  0 13  1  0  0  0]\n",
      " [ 1  1  1 77  3  0  0]\n",
      " [ 0  1  0  2 14  0  0]\n",
      " [ 0  0  0  5  0 10  1]\n",
      " [ 0  1  0  1  0  0 20]]\n"
     ]
    }
   ],
   "source": [
    "\n",
    "# originally tested on 1e-1, 1e-4, 1e-7\n",
    "\n",
    "scaler, pca, clf = scale_pca_grid_search_nn(X_align, y,param_grid={'solver': ['lbfgs'],\n",
    "                                         'alpha': [1e-2, 1e-3, 1e-4],\n",
    "                                         'hidden_layer_sizes': [(150,),(100,),(150,50),(150,75,25)]})"
   ]
  },
  {
   "cell_type": "code",
   "execution_count": 42,
   "metadata": {
    "collapsed": false
   },
   "outputs": [],
   "source": [
    "# print labels for test set\n",
    "Z_scale = scaler.transform(Z_align)\n",
    "Z_pca = pca.transform(Z_scale)\n",
    "z_pred = clf.predict(Z_pca)\n",
    "print_labels_to_file('transform_pca_nn.csv', z_pred)\n"
   ]
  },
  {
   "cell_type": "code",
   "execution_count": 43,
   "metadata": {
    "collapsed": true
   },
   "outputs": [],
   "source": [
    "scaler = StandardScaler()  \n",
    "scaler.fit(X_align) \n",
    "X_pca = pca.transform(scaler.transform(X_align))\n",
    "clf.fit(X_pca, y)\n",
    "# print labels for test set\n",
    "Z_scale = scaler.transform(Z_align)\n",
    "Z_pca = pca.transform(Z_scale)\n",
    "z_pred = clf.predict(Z_pca)\n",
    "print_labels_to_file('transform_pca_nn_fit_to_X.csv', z_pred)"
   ]
  },
  {
   "cell_type": "code",
   "execution_count": 54,
   "metadata": {
    "collapsed": false
   },
   "outputs": [
    {
     "name": "stdout",
     "output_type": "stream",
     "text": [
      "done in 0.398s\n",
      "Projecting the input data on the eigenfaces orthonormal basis\n",
      "done in 0.031s\n",
      "Fitting the classifier to the training set\n",
      "done in 3.765s\n",
      "0.873056994819\n",
      "Predicting people's names on the test set\n",
      "done in 0.028s\n",
      "             precision    recall  f1-score   support\n",
      "\n",
      "          0       0.80      0.89      0.84         9\n",
      "          1       0.97      0.97      0.97        33\n",
      "          2       0.87      0.93      0.90        14\n",
      "          3       0.95      0.93      0.94        83\n",
      "          4       0.84      0.94      0.89        17\n",
      "          5       1.00      0.94      0.97        16\n",
      "          6       0.95      0.91      0.93        22\n",
      "\n",
      "avg / total       0.94      0.93      0.93       194\n",
      "\n",
      "[[ 8  1  0  0  0  0  0]\n",
      " [ 1 32  0  0  0  0  0]\n",
      " [ 0  0 13  1  0  0  0]\n",
      " [ 1  0  2 77  2  0  1]\n",
      " [ 0  0  0  1 16  0  0]\n",
      " [ 0  0  0  1  0 15  0]\n",
      " [ 0  0  0  1  1  0 20]]\n",
      "done in 0.329s\n",
      "Projecting the input data on the eigenfaces orthonormal basis\n",
      "done in 0.031s\n",
      "Fitting the classifier to the training set\n",
      "done in 4.669s\n",
      "0.891304347826\n"
     ]
    }
   ],
   "source": [
    "# bagging neural network\n",
    "scaler = StandardScaler()  \n",
    "scaler.fit(X_align) \n",
    "X_scale = scaler.transform(X_align)\n",
    "#validation\n",
    "bagging_test(X_scale, y, \n",
    "             model=MLPClassifier(activation='relu', alpha=0.01, batch_size='auto', beta_1=0.9,\n",
    "                                   beta_2=0.999, early_stopping=False, epsilon=1e-08,\n",
    "                                   hidden_layer_sizes=(100,), learning_rate='constant',\n",
    "                                   learning_rate_init=0.001, max_iter=200, momentum=0.9,\n",
    "                                   nesterovs_momentum=True, power_t=0.5, random_state=None,\n",
    "                                   shuffle=True, solver='lbfgs', tol=0.0001, validation_fraction=0.1,\n",
    "                                   verbose=False, warm_start=False),\n",
    "             max_samples=1.0, max_features=1.0, n_estimators=30)\n",
    "#fitting\n",
    "pca, clf= bagging_svc(X_scale, y,\n",
    "                model = MLPClassifier(activation='relu', alpha=0.01, batch_size='auto', beta_1=0.9,\n",
    "                                           beta_2=0.999, early_stopping=False, epsilon=1e-08,\n",
    "                                           hidden_layer_sizes=(100,), learning_rate='constant',\n",
    "                                           learning_rate_init=0.001, max_iter=200, momentum=0.9,\n",
    "                                           nesterovs_momentum=True, power_t=0.5, random_state=None,\n",
    "                                           shuffle=True, solver='lbfgs', tol=0.0001, validation_fraction=0.1,\n",
    "                                           verbose=False, warm_start=False),\n",
    "                n_estimators=30, max_samples=1.0, max_features=1.0)\n",
    "\n",
    "# print labels for test set\n",
    "Z_scale = scaler.transform(Z_align)\n",
    "Z_pca = pca.transform(Z_scale)\n",
    "z_pred = clf.predict(Z_pca)\n",
    "print_labels_to_file('transform_pca_nn_bagging.csv', z_pred)"
   ]
  },
  {
   "cell_type": "code",
   "execution_count": 45,
   "metadata": {
    "collapsed": false
   },
   "outputs": [],
   "source": [
    "# # swapping pca and scaling order\n",
    "\n",
    "# X_train, X_test, y_train, y_test = train_test_split(\n",
    "#     X_align, y, test_size=0.2, random_state=3244)\n",
    "\n",
    "\n",
    "# n_components = 150\n",
    "\n",
    "# pca = pca_fit(X_train, n_components =n_components)\n",
    "\n",
    "# X_train_pca = pca.transform(X_train)\n",
    "# X_test_pca = pca.transform(X_test)\n",
    "\n",
    "# scaler = StandardScaler()  \n",
    "# scaler.fit(X_train_pca)  \n",
    "# X_train_scale = scaler.transform(X_train_pca)\n",
    "# X_test_scale = scaler.transform(X_test_pca)\n",
    "\n",
    "\n",
    "# param_grid = {'solver': ['lbfgs'],\n",
    "#               'alpha': [1e-3, 5e-3, 1e-4],\n",
    "#               'hidden_layer_sizes': [(150,),(100,),(150,50),(150,75,25)],\n",
    "#               'early_stopping': [True, False]}\n",
    "# clf = GridSearchCV(MLPClassifier(), param_grid, scoring='f1_micro')\n",
    "# clf = clf.fit(X_train_scale, y_train)\n",
    "# print(clf.best_estimator_)\n",
    "    \n",
    "# # test on test data\n",
    "# print(\"Predicting people's names on the test set\")\n",
    "# t0 = time()\n",
    "# y_pred = clf.predict(X_test_scale)\n",
    "# print(\"done in %0.3fs\" % (time() - t0))\n",
    "\n",
    "# print(classification_report(y_test, y_pred))\n",
    "# print(confusion_matrix(y_test, y_pred, labels=range(n_classes)))\n"
   ]
  },
  {
   "cell_type": "markdown",
   "metadata": {},
   "source": [
    "# on first x derivative"
   ]
  },
  {
   "cell_type": "code",
   "execution_count": 46,
   "metadata": {
    "collapsed": false
   },
   "outputs": [
    {
     "data": {
      "image/png": "[encoded data removed]",
      "text/plain": [
       "<matplotlib.figure.Figure at 0x12dcefe3a90>"
      ]
     },
     "metadata": {},
     "output_type": "display_data"
    },
    {
     "name": "stdout",
     "output_type": "stream",
     "text": [
      "done in 0.227s\n",
      "Projecting the input data on the eigenfaces orthonormal basis\n",
      "done in 0.025s\n",
      "Fitting the classifier to the training set\n",
      "done in 16.844s\n",
      "Best estimator found by grid search:\n",
      "SVC(C=10, cache_size=200, class_weight='balanced', coef0=0.0,\n",
      "  decision_function_shape=None, degree=3, gamma=0.001, kernel='rbf',\n",
      "  max_iter=-1, probability=False, random_state=None, shrinking=True,\n",
      "  tol=0.001, verbose=False)\n",
      "Predicting people's names on the test set\n",
      "done in 0.032s\n",
      "             precision    recall  f1-score   support\n",
      "\n",
      "          0       0.90      0.75      0.82        12\n",
      "          1       0.88      0.88      0.88        48\n",
      "          2       0.68      0.83      0.75        18\n",
      "          3       0.86      0.91      0.89        98\n",
      "          4       0.88      0.74      0.80        19\n",
      "          5       0.64      0.56      0.60        16\n",
      "          6       0.93      0.87      0.90        31\n",
      "\n",
      "avg / total       0.85      0.85      0.85       242\n",
      "\n",
      "[[ 9  0  0  0  0  3  0]\n",
      " [ 0 42  2  2  0  1  1]\n",
      " [ 1  0 15  2  0  0  0]\n",
      " [ 0  3  3 89  1  1  1]\n",
      " [ 0  1  2  2 14  0  0]\n",
      " [ 0  1  0  6  0  9  0]\n",
      " [ 0  1  0  2  1  0 27]]\n",
      "done in 0.371s\n",
      "Projecting the input data on the eigenfaces orthonormal basis\n",
      "done in 0.037s\n",
      "Fitting the classifier to the training set\n",
      "done in 17.310s\n",
      "Best estimator found by grid search:\n",
      "SVC(C=10, cache_size=200, class_weight='balanced', coef0=0.0,\n",
      "  decision_function_shape=None, degree=3, gamma=0.001, kernel='rbf',\n",
      "  max_iter=-1, probability=False, random_state=None, shrinking=True,\n",
      "  tol=0.001, verbose=False)\n",
      "Predicting people's names on the test set\n",
      "done in 0.034s\n",
      "             precision    recall  f1-score   support\n",
      "\n",
      "          0       0.85      0.92      0.88        12\n",
      "          1       0.85      0.81      0.83        48\n",
      "          2       0.80      0.89      0.84        18\n",
      "          3       0.88      0.89      0.88        98\n",
      "          4       0.74      0.74      0.74        19\n",
      "          5       0.85      0.69      0.76        16\n",
      "          6       0.81      0.84      0.83        31\n",
      "\n",
      "avg / total       0.84      0.84      0.84       242\n",
      "\n",
      "[[11  0  0  1  0  0  0]\n",
      " [ 0 39  2  3  1  1  2]\n",
      " [ 0  0 16  2  0  0  0]\n",
      " [ 1  3  1 87  3  1  2]\n",
      " [ 0  2  0  1 14  0  2]\n",
      " [ 0  1  1  2  1 11  0]\n",
      " [ 1  1  0  3  0  0 26]]\n",
      "done in 0.260s\n",
      "Projecting the input data on the eigenfaces orthonormal basis\n",
      "done in 0.026s\n",
      "Fitting the classifier to the training set\n",
      "done in 17.737s\n",
      "Best estimator found by grid search:\n",
      "SVC(C=10, cache_size=200, class_weight='balanced', coef0=0.0,\n",
      "  decision_function_shape=None, degree=3, gamma=0.005, kernel='rbf',\n",
      "  max_iter=-1, probability=False, random_state=None, shrinking=True,\n",
      "  tol=0.001, verbose=False)\n",
      "Predicting people's names on the test set\n",
      "done in 0.034s\n",
      "             precision    recall  f1-score   support\n",
      "\n",
      "          0       1.00      0.75      0.86        12\n",
      "          1       0.77      0.96      0.85        48\n",
      "          2       1.00      0.83      0.91        18\n",
      "          3       0.83      0.94      0.88        98\n",
      "          4       1.00      0.74      0.85        19\n",
      "          5       1.00      0.50      0.67        16\n",
      "          6       0.96      0.77      0.86        31\n",
      "\n",
      "avg / total       0.88      0.86      0.86       242\n",
      "\n",
      "[[ 9  3  0  0  0  0  0]\n",
      " [ 0 46  0  1  0  0  1]\n",
      " [ 0  0 15  3  0  0  0]\n",
      " [ 0  6  0 92  0  0  0]\n",
      " [ 0  0  0  5 14  0  0]\n",
      " [ 0  2  0  6  0  8  0]\n",
      " [ 0  3  0  4  0  0 24]]\n"
     ]
    }
   ],
   "source": [
    "\n",
    "X_images_filter = np.zeros((n_samples,50,37))\n",
    "X_images_derivX = np.zeros((n_samples,50,37))\n",
    "X_images_derivY = np.zeros((n_samples,50,37))\n",
    "\n",
    "kernel = np.array([[-1,-1,-1], [-1,9,-1], [-1,-1,-1]])\n",
    "\n",
    "for i in range(n_samples):\n",
    "    X_images_filter[i][:][:]= cv2.filter2D(X_images_norm[i], -1, kernel)\n",
    "    X_images_derivX[i][:][:]=cv2.Scharr(X_images_norm[i],-1,1,0)\n",
    "    X_images_derivY[i][:][:]=cv2.Scharr(X_images_norm[i],-1,0,1)\n",
    "    \n",
    "plot_gallery(X_images_filter, y)\n",
    "plt.show()\n",
    "\n",
    "X_align_filter = image_to_np_array(X_images_filter)\n",
    "X_align_derivX = image_to_np_array(X_images_derivX)\n",
    "X_align_derivY = image_to_np_array(X_images_derivY)\n",
    "\n",
    "pca, clf = pca_grid_search(X_align_filter, y)\n",
    "pca, clf = pca_grid_search(X_align_derivX, y)\n",
    "pca, clf = pca_grid_search(X_align_derivY, y)"
   ]
  },
  {
   "cell_type": "code",
   "execution_count": 47,
   "metadata": {
    "collapsed": false
   },
   "outputs": [
    {
     "name": "stdout",
     "output_type": "stream",
     "text": [
      "done in 0.229s\n",
      "MLPClassifier(activation='relu', alpha=0.0001, batch_size='auto', beta_1=0.9,\n",
      "       beta_2=0.999, early_stopping=False, epsilon=1e-08,\n",
      "       hidden_layer_sizes=(150,), learning_rate='constant',\n",
      "       learning_rate_init=0.001, max_iter=200, momentum=0.9,\n",
      "       nesterovs_momentum=True, power_t=0.5, random_state=None,\n",
      "       shuffle=True, solver='lbfgs', tol=0.0001, validation_fraction=0.1,\n",
      "       verbose=False, warm_start=False)\n",
      "Predicting people's names on the test set\n",
      "done in 0.001s\n",
      "             precision    recall  f1-score   support\n",
      "\n",
      "          0       1.00      0.89      0.94         9\n",
      "          1       0.83      0.88      0.85        33\n",
      "          2       0.87      0.93      0.90        14\n",
      "          3       0.92      0.92      0.92        83\n",
      "          4       0.93      0.76      0.84        17\n",
      "          5       0.81      0.81      0.81        16\n",
      "          6       0.78      0.82      0.80        22\n",
      "\n",
      "avg / total       0.88      0.88      0.88       194\n",
      "\n",
      "[[ 8  1  0  0  0  0  0]\n",
      " [ 0 29  0  0  0  2  2]\n",
      " [ 0  0 13  0  0  1  0]\n",
      " [ 0  5  0 76  0  0  2]\n",
      " [ 0  0  2  1 13  0  1]\n",
      " [ 0  0  0  3  0 13  0]\n",
      " [ 0  0  0  3  1  0 18]]\n"
     ]
    }
   ],
   "source": [
    "X_train, X_test, y_train, y_test = train_test_split(\n",
    "    X_align_derivY, y, test_size=0.2, random_state=3244)\n",
    "\n",
    "n_components = 150\n",
    "\n",
    "pca = pca_fit(X_train, n_components =n_components)\n",
    "\n",
    "X_train_pca = pca.transform(X_train)\n",
    "X_test_pca = pca.transform(X_test)\n",
    "\n",
    "\n",
    "param_grid = {'solver': ['lbfgs'],\n",
    "              'alpha': [1e-2, 1e-4, 1e-6],\n",
    "              'hidden_layer_sizes': [(150,),(100,),(150,50),(150,75,25)]}\n",
    "clf = GridSearchCV(MLPClassifier(), param_grid, scoring='f1_micro')\n",
    "clf = clf.fit(X_train_pca, y_train)\n",
    "print(clf.best_estimator_)\n",
    "    \n",
    "# test on test data\n",
    "print(\"Predicting people's names on the test set\")\n",
    "t0 = time()\n",
    "y_pred = clf.predict(X_test_pca)\n",
    "print(\"done in %0.3fs\" % (time() - t0))\n",
    "\n",
    "print(classification_report(y_test, y_pred))\n",
    "print(confusion_matrix(y_test, y_pred, labels=range(n_classes)))"
   ]
  },
  {
   "cell_type": "code",
   "execution_count": 48,
   "metadata": {
    "collapsed": false
   },
   "outputs": [
    {
     "name": "stdout",
     "output_type": "stream",
     "text": [
      "done in 0.228s\n",
      "Projecting the input data on the eigenfaces orthonormal basis\n",
      "done in 0.023s\n",
      "Fitting the classifier to the training set\n",
      "done in 4.313s\n",
      "0.874352331606\n",
      "Predicting people's names on the test set\n",
      "done in 0.037s\n",
      "             precision    recall  f1-score   support\n",
      "\n",
      "          0       1.00      1.00      1.00         9\n",
      "          1       0.91      0.94      0.93        33\n",
      "          2       0.78      1.00      0.88        14\n",
      "          3       0.90      0.92      0.91        83\n",
      "          4       0.93      0.76      0.84        17\n",
      "          5       0.87      0.81      0.84        16\n",
      "          6       0.95      0.86      0.90        22\n",
      "\n",
      "avg / total       0.91      0.90      0.90       194\n",
      "\n",
      "[[ 9  0  0  0  0  0  0]\n",
      " [ 0 31  0  0  0  2  0]\n",
      " [ 0  0 14  0  0  0  0]\n",
      " [ 0  3  3 76  1  0  0]\n",
      " [ 0  0  1  3 13  0  0]\n",
      " [ 0  0  0  2  0 13  1]\n",
      " [ 0  0  0  3  0  0 19]]\n"
     ]
    }
   ],
   "source": [
    "clf = clf.best_estimator_\n",
    "# bagging neural network with derivY\n",
    "pca, clf = bagging_test(X_align_derivY, y, \n",
    "                        model=clf,\n",
    "                        max_samples=1.0, max_features=1.0, n_estimators=30)"
   ]
  },
  {
   "cell_type": "markdown",
   "metadata": {},
   "source": [
    "## without PCA"
   ]
  },
  {
   "cell_type": "code",
   "execution_count": 49,
   "metadata": {
    "collapsed": false
   },
   "outputs": [],
   "source": [
    "# scaler = StandardScaler()  \n",
    "# scaler.fit(X)\n",
    "# X_scale = scaler.transform(X)\n",
    "\n",
    "# param_grid = {'solver': ['lbfgs'],\n",
    "#               'alpha': [1e-1, 1e-4, 1e-7],\n",
    "#               'hidden_layer_sizes': [(500,), (300,), (150,)]}\n",
    "# clf = GridSearchCV(MLPClassifier(), param_grid, scoring='f1_micro')\n",
    "# clf = clf.fit(X_scale, y)\n",
    "# print(clf.best_estimator_)\n",
    "# print(clf.best_score_)"
   ]
  },
  {
   "cell_type": "code",
   "execution_count": 50,
   "metadata": {
    "collapsed": false
   },
   "outputs": [],
   "source": [
    "# alpha: 1e-1, 1e-4, 1e-7, hidden_layer_sizes: (500,), (100,)\n",
    "# alpha: 1e-3, 1e-4, 1e-5, hls: (400,), (300,), (200,)\n",
    "\n",
    "# scaler = StandardScaler()  \n",
    "# scaler.fit(X_align)\n",
    "# X_scale = scaler.transform(X_align)\n",
    "\n",
    "# param_grid = {'solver': ['lbfgs'],\n",
    "#               'alpha': [1e-1, 1e-3, 1e-5],\n",
    "#               'hidden_layer_sizes': [(300,),(50,50,50,50,50)]}\n",
    "# clf = GridSearchCV(MLPClassifier(), param_grid, scoring='f1_micro')\n",
    "# clf = clf.fit(X_scale, y)\n",
    "# print(clf.best_estimator_)\n",
    "# print(clf.best_score_)"
   ]
  },
  {
   "cell_type": "markdown",
   "metadata": {},
   "source": [
    "# Testing without PCA & transformation"
   ]
  },
  {
   "cell_type": "code",
   "execution_count": 51,
   "metadata": {
    "collapsed": false
   },
   "outputs": [],
   "source": [
    "# # validation set\n",
    "# X_train, X_test, y_train, y_test = train_test_split(\n",
    "#     X, y, test_size=0.25, random_state=3244)\n",
    "# param_grid = {'C': [1e3, 5e3, 1e4, 5e4, 1e5],\n",
    "#               'kernel': ['poly'], \n",
    "#               'degree': [1, 2, 3],\n",
    "#               'coef0' : [0, 1, 2]}\n",
    "# clf = GridSearchCV(SVC(class_weight='balanced'), param_grid, scoring='f1_micro')\n",
    "# clf = clf.fit(X_train, y_train)\n",
    "# print(\"Best estimator found by grid search:\")\n",
    "# print(clf.best_estimator_)\n"
   ]
  },
  {
   "cell_type": "code",
   "execution_count": 52,
   "metadata": {
    "collapsed": false
   },
   "outputs": [],
   "source": [
    "# # test on test data\n",
    "# print(\"Predicting people's names on the test set\")\n",
    "# t0 = time()\n",
    "# y_pred = clf.predict(X_test)\n",
    "# print(\"done in %0.3fs\" % (time() - t0))\n",
    "\n",
    "# print(classification_report(y_test, y_pred))\n",
    "# print(confusion_matrix(y_test, y_pred, labels=range(n_classes)))"
   ]
  },
  {
   "cell_type": "code",
   "execution_count": 53,
   "metadata": {
    "collapsed": false
   },
   "outputs": [],
   "source": [
    "# clf = clf.best_estimator_\n",
    "# clf.fit(X,y)\n",
    "# print_labels_to_file('poly_fit_to_X.csv', clf.predict(Z))"
   ]
  },
  {
   "cell_type": "code",
   "execution_count": null,
   "metadata": {
    "collapsed": true
   },
   "outputs": [],
   "source": []
  }
 ],
 "metadata": {
  "anaconda-cloud": {},
  "kernelspec": {
   "display_name": "Python [default]",
   "language": "python",
   "name": "python3"
  },
  "language_info": {
   "codemirror_mode": {
    "name": "ipython",
    "version": 3
   },
   "file_extension": ".py",
   "mimetype": "text/x-python",
   "name": "python",
   "nbconvert_exporter": "python",
   "pygments_lexer": "ipython3",
   "version": "3.5.2"
  }
 },
 "nbformat": 4,
 "nbformat_minor": 0
}
