{
 "cells": [
  {
   "cell_type": "markdown",
   "metadata": {
    "collapsed": true
   },
   "source": [
    "# Homework #3 - Labeled Faces in the Wild"
   ]
  },
  {
   "cell_type": "markdown",
   "metadata": {},
   "source": [
    "Matriculation Numbers: A0124772E, ???, ???\n",
    "\n",
    "Email Addresses: a0124772@u.nus.edu, ???, ???"
   ]
  },
  {
   "cell_type": "markdown",
   "metadata": {},
   "source": [
    "## Boilerplate"
   ]
  },
  {
   "cell_type": "code",
   "execution_count": null,
   "metadata": {
    "collapsed": false
   },
   "outputs": [],
   "source": [
    "###################\n",
    "##### IMPORTS #####\n",
    "###################\n",
    "\n",
    "# Numpy\n",
    "import numpy as np\n",
    "\n",
    "# SciKit\n",
    "from sklearn.cross_validation import KFold"
   ]
  },
  {
   "cell_type": "code",
   "execution_count": null,
   "metadata": {
    "collapsed": true
   },
   "outputs": [],
   "source": [
    "#####################################\n",
    "##### MODEL SELECTION FRAMEWORK #####\n",
    "#####################################\n",
    "\n",
    "class ValidatedModel():\n",
    "    def __init__(self):\n",
    "        self.num_samples    = None\n",
    "        self.cv_indices     = None\n",
    "        self.X              = None\n",
    "        self.y              = None\n",
    "        self.trained_models = None\n",
    "        \n",
    "    \n",
    "    def supplyDataset(self, all_samples, all_labels, cross_validation_parameter=5):\n",
    "        '''\n",
    "            Ensures there are as many labels as samples.\n",
    "            Sets the training samples X.\n",
    "            Sets the training labels y.\n",
    "            Computes the cross-validation indices (5-fold default).\n",
    "        '''\n",
    "        assert all_samples.shape[0] == all_labels.shape[0]\n",
    "        \n",
    "        self.num_samples = all_samples.shape[0]\n",
    "        self.cv_indices  = KFold(n=self.num_samples, n_folds=cross_validation_parameter)\n",
    "        \n",
    "        self.X = all_samples\n",
    "        self.y = all_labels\n",
    "    \n",
    "    def trainAll(self):\n",
    "        '''\n",
    "            For each split of training and test sets (using k-fold),\n",
    "                * train the model on the training set\n",
    "                * compute E_in\n",
    "                * compute E_out\n",
    "            Store a list of the (model, E_in, E_out) tuples.\n",
    "        '''\n",
    "        self.trained_models = []\n",
    "        \n",
    "        for train_idx, test_idx in self.cv_indices:\n",
    "            trained_model = self.train(self.X[train_idx], self.y[train_idx])\n",
    "            \n",
    "            E_in  = self.getInSampleError(self.X[train_idx], self.y[train_idx])\n",
    "            E_out = self.getOutSampleError(self.X[test_idx], self.y[test_idx])\n",
    "            \n",
    "            self.trained_models.append((trained_model, E_in, E_out))\n",
    "    \n",
    "    def crossValidate(self):\n",
    "        '''\n",
    "            Computes the average generalisation error (|E_out - E_in|) over all pair of training and test sets.\n",
    "            Returns a pair of the average generalisation error and the average in-sample error.\n",
    "        '''\n",
    "        sum_generalisation_error = 0\n",
    "        sum_E_in = 0\n",
    "        \n",
    "        for model in self.trained_models:\n",
    "            E_in  = model[1]\n",
    "            E_out = model[2]\n",
    "            \n",
    "            sum_generalisation_error += abs(E_in - E_out)\n",
    "            sum_E_in                 += E_in\n",
    "        \n",
    "        average_generalisation_error = sum_generalisation_error / len(self.num_samples)\n",
    "        average_E_in                 = sum_E_in                 / len(self.num_samples)\n",
    "        \n",
    "        return (average_generalisation_error, average_E_in)\n",
    "    \n",
    "    \n",
    "    def getInSampleError(self, samples, labels):\n",
    "        pass\n",
    "    \n",
    "    def getOutSampleError(self, samples, labels):\n",
    "        pass\n",
    "    \n",
    "    def train(self, samples, labels):\n",
    "        pass"
   ]
  },
  {
   "cell_type": "code",
   "execution_count": null,
   "metadata": {
    "collapsed": false
   },
   "outputs": [],
   "source": [
    "example = ValidatedModel()\n",
    "example.supplyDataset(np.load('X_train.npy'), np.load('y_train.npy'))\n",
    "\n",
    "for trainidx, testidx in example.cv_indices:\n",
    "    print(example.X[trainidx])\n",
    "    print(example.y[trainidx])\n",
    "    print()\n",
    "    print(example.X[testidx])\n",
    "    print(example.y[testidx])\n",
    "    break"
   ]
  },
  {
   "cell_type": "markdown",
   "metadata": {},
   "source": [
    "## Statement of (Team-Level) Individual Work\n",
    "\n",
    "Please initial (between the square brackets) one of the following statements.\n",
    "\n",
    "[X] I, A0124772E and ??? and ???, certify that we have followed the CS 3244 Machine Learning class guidelines for homework assignments.  In particular, we expressly vow that we have followed the Facebook rule in discussing with others (out of our team) in doing the assignment and did not take notes (digital or printed) from the discussions.  \n",
    "\n",
    "[ ] I, <*substitute your matric number here*>, did not follow the class rules regarding the homework assignment, because of the following reason:\n",
    "\n",
    "<*Please fill in*>\n",
    "\n",
    "I suggest that I should be graded as follows:\n",
    "\n",
    "<*Please fill in*>\n",
    "\n",
    "### References\n",
    "\n"
   ]
  }
 ],
 "metadata": {
  "anaconda-cloud": {},
  "kernelspec": {
   "display_name": "Python [Root]",
   "language": "python",
   "name": "Python [Root]"
  },
  "language_info": {
   "codemirror_mode": {
    "name": "ipython",
    "version": 3
   },
   "file_extension": ".py",
   "mimetype": "text/x-python",
   "name": "python",
   "nbconvert_exporter": "python",
   "pygments_lexer": "ipython3",
   "version": "3.5.2"
  }
 },
 "nbformat": 4,
 "nbformat_minor": 0
}
